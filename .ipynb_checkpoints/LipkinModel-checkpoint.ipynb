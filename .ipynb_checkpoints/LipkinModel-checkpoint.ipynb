{
 "cells": [
  {
   "cell_type": "markdown",
   "id": "ccd0e836",
   "metadata": {},
   "source": [
    "# Lipkin Model: Mackenzie Smith"
   ]
  },
  {
   "cell_type": "markdown",
   "id": "e8964af7",
   "metadata": {},
   "source": [
    "\n",
    "## 1) Prove the commutation relations for the quasi-spin operators."
   ]
  },
  {
   "cell_type": "code",
   "execution_count": 2,
   "id": "016fb670",
   "metadata": {},
   "outputs": [],
   "source": [
    "import numpy as np\n",
    "import matplotlib.pyplot as plt"
   ]
  },
  {
   "cell_type": "code",
   "execution_count": null,
   "id": "77786f8c",
   "metadata": {},
   "outputs": [],
   "source": []
  },
  {
   "cell_type": "markdown",
   "id": "bf5b11bc",
   "metadata": {},
   "source": [
    "## 2) Plot the eigenvalues of the LM Hamiltonian matrix in the quasi-spin basis for $\\epsilon = 1$, $\\Omega = 14$, $N=14$ as a function of $0<V(\\Omega -1)/\\epsilon <2$. Label eigenvalues using the conserved quantum numbers."
   ]
  },
  {
   "cell_type": "code",
   "execution_count": null,
   "id": "858c2227",
   "metadata": {},
   "outputs": [],
   "source": []
  },
  {
   "cell_type": "markdown",
   "id": "17fa347e",
   "metadata": {},
   "source": [
    "## 3) What happens with the two lowest eigenvalues around $0<V(\\Omega -1)/\\epsilon <2$ ? Is it reminiscent of something you've seen before?"
   ]
  },
  {
   "cell_type": "code",
   "execution_count": null,
   "id": "2c9e3952",
   "metadata": {},
   "outputs": [],
   "source": []
  },
  {
   "cell_type": "markdown",
   "id": "c1952716",
   "metadata": {},
   "source": [
    "## 4) Consider the transition operator $$ \\hat{Q} \\equiv \\hat{K}_x = \\frac{1}{2} \\bigl ( \\hat{K}_+ + \\hat{K}_- \\bigr ) $$ What is the expectation value of this operator in the ground state?\n"
   ]
  },
  {
   "cell_type": "code",
   "execution_count": null,
   "id": "38f8f518",
   "metadata": {},
   "outputs": [],
   "source": []
  },
  {
   "cell_type": "markdown",
   "id": "18e158e9",
   "metadata": {},
   "source": [
    "## 5) Calculate the transition matrix element of this operator between the ground state and the first excited state as a function of  $0<V(\\Omega -1)/\\epsilon <2$."
   ]
  },
  {
   "cell_type": "code",
   "execution_count": null,
   "id": "3910c92d",
   "metadata": {},
   "outputs": [],
   "source": []
  },
  {
   "cell_type": "markdown",
   "id": "2217e61c",
   "metadata": {},
   "source": [
    "## 6) Find the eigenvalues of the LM Hamiltonian matrix in the CI basis (occupation number representation basis) for $\\epsilon = 1$, $V=0.1$, $\\Omega = 2$, $N=2$ and for $\\Omega=2$, $N=4$. Benchmark this result using the quasi-spin formalism. Identify quasi-spin and signature quantum numbers. Discuss the result."
   ]
  },
  {
   "cell_type": "code",
   "execution_count": null,
   "id": "9e035a8f",
   "metadata": {},
   "outputs": [],
   "source": []
  }
 ],
 "metadata": {
  "kernelspec": {
   "display_name": "Python 3 (ipykernel)",
   "language": "python",
   "name": "python3"
  },
  "language_info": {
   "codemirror_mode": {
    "name": "ipython",
    "version": 3
   },
   "file_extension": ".py",
   "mimetype": "text/x-python",
   "name": "python",
   "nbconvert_exporter": "python",
   "pygments_lexer": "ipython3",
   "version": "3.10.12"
  }
 },
 "nbformat": 4,
 "nbformat_minor": 5
}
